{
 "cells": [
  {
   "cell_type": "markdown",
   "metadata": {},
   "source": [
    "**Learning Datastrucutres Test**"
   ]
  },
  {
   "cell_type": "markdown",
   "metadata": {},
   "source": [
    "Numbers: Store numerical values ex. integers (2) or floating point numbers (2.99)\n",
    "\n",
    "Strings: Sequences of characters enclosed in quotes ex. name = 'Bilaal Khan' \n",
    "\n",
    "Lists: Ordered  mutable collection of elements that can store different datat types ex. my_list = [1, 'hello', 3.5, True]\n",
    "\n",
    "Tuples: Ordered immutable collection of elements, can't be modified ex. my_tuple = (1,'hello',3.5)\n",
    "\n",
    "Dictionaries: Unorded collection of key:value pairs ex. my_dict = {\"name\": \"Bilaal\", \"age\": 18}"
   ]
  },
  {
   "cell_type": "code",
   "execution_count": 1,
   "metadata": {},
   "outputs": [
    {
     "data": {
      "text/plain": [
       "100.25"
      ]
     },
     "execution_count": 1,
     "metadata": {},
     "output_type": "execute_result"
    }
   ],
   "source": [
    "# Write an equation that uses multiplication, division, an exponent, addition, and subtraction that is equal to 100.25\n",
    "\n",
    "((5**2 - 10) * 5) + (125 - 99.75)"
   ]
  },
  {
   "cell_type": "code",
   "execution_count": 4,
   "metadata": {},
   "outputs": [
    {
     "data": {
      "text/plain": [
       "float"
      ]
     },
     "execution_count": 4,
     "metadata": {},
     "output_type": "execute_result"
    }
   ],
   "source": [
    "# What is the type of the result of the expression 3 + 1.5 + 4?\n",
    "\n",
    "# By inspection I know it is a floating I will prove it\n",
    "\n",
    "number = 3+1.5+4\n",
    "type(number)"
   ]
  },
  {
   "cell_type": "code",
   "execution_count": 12,
   "metadata": {},
   "outputs": [
    {
     "name": "stdout",
     "output_type": "stream",
     "text": [
      "4.0\n",
      "16.0\n"
     ]
    }
   ],
   "source": [
    "# What would you use to find a number’s square root, as well as its square?\n",
    "\n",
    "# I will solve this without using the square root function. We know the square root of a number is the number to the power of 1/2\n",
    "\n",
    "number = 16\n",
    "square_root = number ** 0.5\n",
    "print(square_root)\n",
    "\n",
    "# Square can be written as a number to the power of 2 or itself\n",
    "number2 = 4.0\n",
    "square = number2 ** 2\n",
    "print(square)"
   ]
  },
  {
   "cell_type": "code",
   "execution_count": 21,
   "metadata": {},
   "outputs": [
    {
     "name": "stdout",
     "output_type": "stream",
     "text": [
      "e\n",
      "e\n",
      "olleh\n"
     ]
    }
   ],
   "source": [
    "# Given the string 'hello' give an index command that returns 'e' \n",
    "\n",
    "s = 'hello'\n",
    "print(s[1])\n",
    "\n",
    "#or\n",
    "\n",
    "print(s[1:2])\n",
    "\n",
    "#Reverse the string using slicing:\n",
    "print(s[::-1])"
   ]
  },
  {
   "cell_type": "code",
   "execution_count": 25,
   "metadata": {},
   "outputs": [
    {
     "name": "stdout",
     "output_type": "stream",
     "text": [
      "[1, 2, [3, 4, 'goodbye']]\n",
      "[1, 3, 4, 5, 6]\n"
     ]
    }
   ],
   "source": [
    "# Reassign 'hello' in this nested list to say 'goodbye' instead:\n",
    "list3 = [1,2,[3,4,'hello']]\n",
    "list3[2][2]='goodbye'\n",
    "print(list3)\n",
    "\n",
    "# sort list\n",
    "list4 = [5, 3, 4, 6, 1]\n",
    "list4.sort()\n",
    "print(list4)"
   ]
  },
  {
   "cell_type": "code",
   "execution_count": 37,
   "metadata": {},
   "outputs": [
    {
     "name": "stdout",
     "output_type": "stream",
     "text": [
      "hello\n",
      "hello\n",
      "hello\n",
      "hello\n"
     ]
    }
   ],
   "source": [
    "# Using keys and indexing, grab the 'hello' from the following dictionaries\n",
    "d = {'simple_key':'hello'}\n",
    "print(d['simple_key'])\n",
    "\n",
    "d = {'k1':{'k2':'hello'}}\n",
    "result = d['k1']['k2']\n",
    "print(result)\n",
    "\n",
    "d = {'k1':[{'nest_key':['this is deep',['hello']]}]}\n",
    "result = d['k1'][0]['nest_key'][1][0]\n",
    "print(result)\n",
    "\n",
    "d = {'k1':[1,2,{'k2':['this is tricky',{'tough':[1,2,['hello']]}]}]}\n",
    "result = d['k1'][2]['k2'][1]['tough'][2][0]\n",
    "print(result)"
   ]
  },
  {
   "cell_type": "code",
   "execution_count": 40,
   "metadata": {},
   "outputs": [
    {
     "name": "stdout",
     "output_type": "stream",
     "text": [
      "{1, 2, 33, 4, 3, 11, 22}\n"
     ]
    }
   ],
   "source": [
    "#Find unique values \n",
    "list5 = [1,2,2,33,4,4,11,22,3,3,2]\n",
    "print(set(list5))"
   ]
  }
 ],
 "metadata": {
  "kernelspec": {
   "display_name": "Python 3",
   "language": "python",
   "name": "python3"
  },
  "language_info": {
   "codemirror_mode": {
    "name": "ipython",
    "version": 3
   },
   "file_extension": ".py",
   "mimetype": "text/x-python",
   "name": "python",
   "nbconvert_exporter": "python",
   "pygments_lexer": "ipython3",
   "version": "3.9.6"
  }
 },
 "nbformat": 4,
 "nbformat_minor": 2
}
